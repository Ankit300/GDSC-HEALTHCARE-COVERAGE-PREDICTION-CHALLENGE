{
 "cells": [
  {
   "cell_type": "code",
   "execution_count": 1,
   "id": "4796223a",
   "metadata": {},
   "outputs": [],
   "source": [
    "import pandas as pd\n",
    "import numpy as np\n",
    "from sklearn.preprocessing import LabelEncoder"
   ]
  },
  {
   "cell_type": "code",
   "execution_count": 2,
   "id": "bcee2f67",
   "metadata": {},
   "outputs": [],
   "source": [
    "train= pd.read_csv('train.csv')\n",
    "test= pd.read_csv('test .csv')"
   ]
  },
  {
   "cell_type": "code",
   "execution_count": 3,
   "id": "a70b99a6",
   "metadata": {},
   "outputs": [],
   "source": [
    "train=train.drop(['ZIP'], axis=1)\n",
    "test=test.drop(['ZIP'], axis=1)"
   ]
  },
  {
   "cell_type": "code",
   "execution_count": 4,
   "id": "1120861a",
   "metadata": {},
   "outputs": [
    {
     "data": {
      "text/html": [
       "<div>\n",
       "<style scoped>\n",
       "    .dataframe tbody tr th:only-of-type {\n",
       "        vertical-align: middle;\n",
       "    }\n",
       "\n",
       "    .dataframe tbody tr th {\n",
       "        vertical-align: top;\n",
       "    }\n",
       "\n",
       "    .dataframe thead th {\n",
       "        text-align: right;\n",
       "    }\n",
       "</style>\n",
       "<table border=\"1\" class=\"dataframe\">\n",
       "  <thead>\n",
       "    <tr style=\"text-align: right;\">\n",
       "      <th></th>\n",
       "      <th>ID</th>\n",
       "      <th>PREFIX</th>\n",
       "      <th>SUFFIX</th>\n",
       "      <th>MARITAL</th>\n",
       "      <th>RACE</th>\n",
       "      <th>ETHNICITY</th>\n",
       "      <th>GENDER</th>\n",
       "      <th>BIRTHPLACE</th>\n",
       "      <th>CITY</th>\n",
       "      <th>STATE</th>\n",
       "      <th>COUNTY</th>\n",
       "      <th>HEALTHCARE_EXPENSES</th>\n",
       "      <th>HEALTHCARE_COVERAGE</th>\n",
       "    </tr>\n",
       "  </thead>\n",
       "  <tbody>\n",
       "    <tr>\n",
       "      <th>0</th>\n",
       "      <td>1</td>\n",
       "      <td>NaN</td>\n",
       "      <td>NaN</td>\n",
       "      <td>NaN</td>\n",
       "      <td>white</td>\n",
       "      <td>nonhispanic</td>\n",
       "      <td>F</td>\n",
       "      <td>Beverly  Massachusetts  US</td>\n",
       "      <td>Holden</td>\n",
       "      <td>Massachusetts</td>\n",
       "      <td>Middlesex County</td>\n",
       "      <td>1.517539e+05</td>\n",
       "      <td>9316.929057</td>\n",
       "    </tr>\n",
       "    <tr>\n",
       "      <th>1</th>\n",
       "      <td>2</td>\n",
       "      <td>Mrs.</td>\n",
       "      <td>NaN</td>\n",
       "      <td>M</td>\n",
       "      <td>white</td>\n",
       "      <td>hispanic</td>\n",
       "      <td>F</td>\n",
       "      <td>Townsend  Massachusetts  US</td>\n",
       "      <td>Chelsea</td>\n",
       "      <td>Massachusetts</td>\n",
       "      <td>Hampshire County</td>\n",
       "      <td>1.096723e+05</td>\n",
       "      <td>3545.476208</td>\n",
       "    </tr>\n",
       "    <tr>\n",
       "      <th>2</th>\n",
       "      <td>3</td>\n",
       "      <td>Mrs.</td>\n",
       "      <td>NaN</td>\n",
       "      <td>S</td>\n",
       "      <td>white</td>\n",
       "      <td>nonhispanic</td>\n",
       "      <td>F</td>\n",
       "      <td>Boston  Massachusetts  US</td>\n",
       "      <td>Arlington</td>\n",
       "      <td>Massachusetts</td>\n",
       "      <td>Middlesex County</td>\n",
       "      <td>9.851484e+05</td>\n",
       "      <td>8078.460265</td>\n",
       "    </tr>\n",
       "    <tr>\n",
       "      <th>3</th>\n",
       "      <td>4</td>\n",
       "      <td>NaN</td>\n",
       "      <td>NaN</td>\n",
       "      <td>NaN</td>\n",
       "      <td>white</td>\n",
       "      <td>nonhispanic</td>\n",
       "      <td>F</td>\n",
       "      <td>Brookline  Massachusetts  US</td>\n",
       "      <td>Springfield</td>\n",
       "      <td>Massachusetts</td>\n",
       "      <td>Worcester County</td>\n",
       "      <td>6.955607e+03</td>\n",
       "      <td>512.371734</td>\n",
       "    </tr>\n",
       "    <tr>\n",
       "      <th>4</th>\n",
       "      <td>5</td>\n",
       "      <td>Mr.</td>\n",
       "      <td>NaN</td>\n",
       "      <td>M</td>\n",
       "      <td>native</td>\n",
       "      <td>nonhispanic</td>\n",
       "      <td>M</td>\n",
       "      <td>Freetown  Massachusetts  US</td>\n",
       "      <td>Watertown</td>\n",
       "      <td>Massachusetts</td>\n",
       "      <td>Middlesex County</td>\n",
       "      <td>1.030810e+06</td>\n",
       "      <td>3637.117541</td>\n",
       "    </tr>\n",
       "  </tbody>\n",
       "</table>\n",
       "</div>"
      ],
      "text/plain": [
       "   ID PREFIX SUFFIX MARITAL    RACE    ETHNICITY GENDER  \\\n",
       "0   1    NaN    NaN     NaN   white  nonhispanic      F   \n",
       "1   2   Mrs.    NaN       M   white     hispanic      F   \n",
       "2   3   Mrs.    NaN       S   white  nonhispanic      F   \n",
       "3   4    NaN    NaN     NaN   white  nonhispanic      F   \n",
       "4   5    Mr.    NaN       M  native  nonhispanic      M   \n",
       "\n",
       "                     BIRTHPLACE         CITY          STATE            COUNTY  \\\n",
       "0    Beverly  Massachusetts  US       Holden  Massachusetts  Middlesex County   \n",
       "1   Townsend  Massachusetts  US      Chelsea  Massachusetts  Hampshire County   \n",
       "2     Boston  Massachusetts  US    Arlington  Massachusetts  Middlesex County   \n",
       "3  Brookline  Massachusetts  US  Springfield  Massachusetts  Worcester County   \n",
       "4   Freetown  Massachusetts  US    Watertown  Massachusetts  Middlesex County   \n",
       "\n",
       "   HEALTHCARE_EXPENSES  HEALTHCARE_COVERAGE  \n",
       "0         1.517539e+05          9316.929057  \n",
       "1         1.096723e+05          3545.476208  \n",
       "2         9.851484e+05          8078.460265  \n",
       "3         6.955607e+03           512.371734  \n",
       "4         1.030810e+06          3637.117541  "
      ]
     },
     "execution_count": 4,
     "metadata": {},
     "output_type": "execute_result"
    }
   ],
   "source": [
    "train.head()"
   ]
  },
  {
   "cell_type": "code",
   "execution_count": 5,
   "id": "00cdbca7",
   "metadata": {},
   "outputs": [
    {
     "data": {
      "text/html": [
       "<div>\n",
       "<style scoped>\n",
       "    .dataframe tbody tr th:only-of-type {\n",
       "        vertical-align: middle;\n",
       "    }\n",
       "\n",
       "    .dataframe tbody tr th {\n",
       "        vertical-align: top;\n",
       "    }\n",
       "\n",
       "    .dataframe thead th {\n",
       "        text-align: right;\n",
       "    }\n",
       "</style>\n",
       "<table border=\"1\" class=\"dataframe\">\n",
       "  <thead>\n",
       "    <tr style=\"text-align: right;\">\n",
       "      <th></th>\n",
       "      <th>ID</th>\n",
       "      <th>PREFIX</th>\n",
       "      <th>SUFFIX</th>\n",
       "      <th>MARITAL</th>\n",
       "      <th>RACE</th>\n",
       "      <th>ETHNICITY</th>\n",
       "      <th>GENDER</th>\n",
       "      <th>BIRTHPLACE</th>\n",
       "      <th>CITY</th>\n",
       "      <th>STATE</th>\n",
       "      <th>COUNTY</th>\n",
       "      <th>HEALTHCARE_EXPENSES</th>\n",
       "    </tr>\n",
       "  </thead>\n",
       "  <tbody>\n",
       "    <tr>\n",
       "      <th>0</th>\n",
       "      <td>1</td>\n",
       "      <td>NaN</td>\n",
       "      <td>NaN</td>\n",
       "      <td>NaN</td>\n",
       "      <td>white</td>\n",
       "      <td>nonhispanic</td>\n",
       "      <td>M</td>\n",
       "      <td>East Bridgewater  Massachusetts  US</td>\n",
       "      <td>Cambridge</td>\n",
       "      <td>Massachusetts</td>\n",
       "      <td>Middlesex County</td>\n",
       "      <td>977341.80200</td>\n",
       "    </tr>\n",
       "    <tr>\n",
       "      <th>1</th>\n",
       "      <td>2</td>\n",
       "      <td>Mr.</td>\n",
       "      <td>NaN</td>\n",
       "      <td>NaN</td>\n",
       "      <td>white</td>\n",
       "      <td>nonhispanic</td>\n",
       "      <td>M</td>\n",
       "      <td>Lexington  Massachusetts  US</td>\n",
       "      <td>Kingston</td>\n",
       "      <td>Massachusetts</td>\n",
       "      <td>Middlesex County</td>\n",
       "      <td>683440.03840</td>\n",
       "    </tr>\n",
       "    <tr>\n",
       "      <th>2</th>\n",
       "      <td>3</td>\n",
       "      <td>Mrs.</td>\n",
       "      <td>NaN</td>\n",
       "      <td>M</td>\n",
       "      <td>white</td>\n",
       "      <td>nonhispanic</td>\n",
       "      <td>F</td>\n",
       "      <td>Woburn  Massachusetts  US</td>\n",
       "      <td>Fall River</td>\n",
       "      <td>Massachusetts</td>\n",
       "      <td>Middlesex County</td>\n",
       "      <td>758751.65560</td>\n",
       "    </tr>\n",
       "    <tr>\n",
       "      <th>3</th>\n",
       "      <td>4</td>\n",
       "      <td>Mr.</td>\n",
       "      <td>NaN</td>\n",
       "      <td>M</td>\n",
       "      <td>white</td>\n",
       "      <td>nonhispanic</td>\n",
       "      <td>M</td>\n",
       "      <td>New Bedford  Massachusetts  US</td>\n",
       "      <td>Barnstable</td>\n",
       "      <td>Massachusetts</td>\n",
       "      <td>Barnstable County</td>\n",
       "      <td>79532.07604</td>\n",
       "    </tr>\n",
       "    <tr>\n",
       "      <th>4</th>\n",
       "      <td>5</td>\n",
       "      <td>NaN</td>\n",
       "      <td>NaN</td>\n",
       "      <td>NaN</td>\n",
       "      <td>white</td>\n",
       "      <td>nonhispanic</td>\n",
       "      <td>F</td>\n",
       "      <td>Danvers  Massachusetts  US</td>\n",
       "      <td>Lawrence</td>\n",
       "      <td>Massachusetts</td>\n",
       "      <td>Worcester County</td>\n",
       "      <td>93806.91339</td>\n",
       "    </tr>\n",
       "  </tbody>\n",
       "</table>\n",
       "</div>"
      ],
      "text/plain": [
       "   ID PREFIX SUFFIX MARITAL   RACE    ETHNICITY GENDER  \\\n",
       "0   1    NaN    NaN     NaN  white  nonhispanic      M   \n",
       "1   2    Mr.    NaN     NaN  white  nonhispanic      M   \n",
       "2   3   Mrs.    NaN       M  white  nonhispanic      F   \n",
       "3   4    Mr.    NaN       M  white  nonhispanic      M   \n",
       "4   5    NaN    NaN     NaN  white  nonhispanic      F   \n",
       "\n",
       "                            BIRTHPLACE        CITY          STATE  \\\n",
       "0  East Bridgewater  Massachusetts  US   Cambridge  Massachusetts   \n",
       "1         Lexington  Massachusetts  US    Kingston  Massachusetts   \n",
       "2            Woburn  Massachusetts  US  Fall River  Massachusetts   \n",
       "3       New Bedford  Massachusetts  US  Barnstable  Massachusetts   \n",
       "4           Danvers  Massachusetts  US    Lawrence  Massachusetts   \n",
       "\n",
       "              COUNTY  HEALTHCARE_EXPENSES  \n",
       "0   Middlesex County         977341.80200  \n",
       "1   Middlesex County         683440.03840  \n",
       "2   Middlesex County         758751.65560  \n",
       "3  Barnstable County          79532.07604  \n",
       "4   Worcester County          93806.91339  "
      ]
     },
     "execution_count": 5,
     "metadata": {},
     "output_type": "execute_result"
    }
   ],
   "source": [
    "test.head()"
   ]
  },
  {
   "cell_type": "code",
   "execution_count": 6,
   "id": "d67d6357",
   "metadata": {},
   "outputs": [],
   "source": [
    "test['PREFIX']= test['PREFIX'].fillna(test['PREFIX'].mode()[0])\n",
    "test['MARITAL']= test['MARITAL'].fillna(test['MARITAL'].mode()[0])\n",
    "test['SUFFIX']= test['MARITAL'].fillna(test['SUFFIX'].mode()[0])"
   ]
  },
  {
   "cell_type": "code",
   "execution_count": 7,
   "id": "93de5edc",
   "metadata": {},
   "outputs": [],
   "source": [
    "train['PREFIX']= train['PREFIX'].fillna('Mrs.')\n",
    "train['MARITAL']= train['MARITAL'].fillna(train['MARITAL'].mode()[0])\n",
    "train['SUFFIX']= train['SUFFIX'].fillna(train['SUFFIX'].mode()[0])"
   ]
  },
  {
   "cell_type": "code",
   "execution_count": 8,
   "id": "18b82117",
   "metadata": {},
   "outputs": [
    {
     "data": {
      "text/plain": [
       "Mr.     2365\n",
       "Mrs.    1300\n",
       "Ms.      335\n",
       "Name: PREFIX, dtype: int64"
      ]
     },
     "execution_count": 8,
     "metadata": {},
     "output_type": "execute_result"
    }
   ],
   "source": [
    "test['PREFIX'].value_counts()"
   ]
  },
  {
   "cell_type": "code",
   "execution_count": 9,
   "id": "9cb00678",
   "metadata": {},
   "outputs": [],
   "source": [
    "# from sklearn.preprocessing import LabelEncoder\n",
    "# encoder=LabelEncoder()\n",
    "# train['PREFIX']=encoder.fit_transform(train['PREFIX'])\n",
    "# # df['Gender']=encoder.fit_transform(df['Gender'])"
   ]
  },
  {
   "cell_type": "code",
   "execution_count": 10,
   "id": "5fd99025",
   "metadata": {},
   "outputs": [
    {
     "data": {
      "text/plain": [
       "Mrs.    7601\n",
       "Mr.     6094\n",
       "Ms.     1305\n",
       "Name: PREFIX, dtype: int64"
      ]
     },
     "execution_count": 10,
     "metadata": {},
     "output_type": "execute_result"
    }
   ],
   "source": [
    "train['PREFIX'].value_counts()"
   ]
  },
  {
   "cell_type": "code",
   "execution_count": 11,
   "id": "22ce07e0",
   "metadata": {},
   "outputs": [
    {
     "name": "stdout",
     "output_type": "stream",
     "text": [
      "<class 'pandas.core.frame.DataFrame'>\n",
      "RangeIndex: 15000 entries, 0 to 14999\n",
      "Data columns (total 13 columns):\n",
      " #   Column               Non-Null Count  Dtype  \n",
      "---  ------               --------------  -----  \n",
      " 0   ID                   15000 non-null  int64  \n",
      " 1   PREFIX               15000 non-null  object \n",
      " 2   SUFFIX               15000 non-null  object \n",
      " 3   MARITAL              15000 non-null  object \n",
      " 4   RACE                 15000 non-null  object \n",
      " 5   ETHNICITY            15000 non-null  object \n",
      " 6   GENDER               15000 non-null  object \n",
      " 7   BIRTHPLACE           15000 non-null  object \n",
      " 8   CITY                 15000 non-null  object \n",
      " 9   STATE                15000 non-null  object \n",
      " 10  COUNTY               15000 non-null  object \n",
      " 11  HEALTHCARE_EXPENSES  15000 non-null  float64\n",
      " 12  HEALTHCARE_COVERAGE  15000 non-null  float64\n",
      "dtypes: float64(2), int64(1), object(10)\n",
      "memory usage: 1.5+ MB\n"
     ]
    }
   ],
   "source": [
    "train.info()"
   ]
  },
  {
   "cell_type": "code",
   "execution_count": 12,
   "id": "613c0775",
   "metadata": {},
   "outputs": [
    {
     "data": {
      "text/plain": [
       "Mrs.    7601\n",
       "Mr.     6094\n",
       "Ms.     1305\n",
       "Name: PREFIX, dtype: int64"
      ]
     },
     "execution_count": 12,
     "metadata": {},
     "output_type": "execute_result"
    }
   ],
   "source": [
    "train['PREFIX'].value_counts()"
   ]
  },
  {
   "cell_type": "code",
   "execution_count": 13,
   "id": "7ffa8208",
   "metadata": {},
   "outputs": [
    {
     "data": {
      "text/plain": [
       "Mr.     2365\n",
       "Mrs.    1300\n",
       "Ms.      335\n",
       "Name: PREFIX, dtype: int64"
      ]
     },
     "execution_count": 13,
     "metadata": {},
     "output_type": "execute_result"
    }
   ],
   "source": [
    "test['PREFIX'].value_counts()"
   ]
  },
  {
   "cell_type": "code",
   "execution_count": null,
   "id": "07cfb6da",
   "metadata": {},
   "outputs": [],
   "source": []
  },
  {
   "cell_type": "code",
   "execution_count": 14,
   "id": "43480812",
   "metadata": {},
   "outputs": [],
   "source": [
    "train=train.apply(LabelEncoder().fit_transform)"
   ]
  },
  {
   "cell_type": "code",
   "execution_count": 15,
   "id": "1a8be312",
   "metadata": {},
   "outputs": [
    {
     "data": {
      "text/html": [
       "<div>\n",
       "<style scoped>\n",
       "    .dataframe tbody tr th:only-of-type {\n",
       "        vertical-align: middle;\n",
       "    }\n",
       "\n",
       "    .dataframe tbody tr th {\n",
       "        vertical-align: top;\n",
       "    }\n",
       "\n",
       "    .dataframe thead th {\n",
       "        text-align: right;\n",
       "    }\n",
       "</style>\n",
       "<table border=\"1\" class=\"dataframe\">\n",
       "  <thead>\n",
       "    <tr style=\"text-align: right;\">\n",
       "      <th></th>\n",
       "      <th>ID</th>\n",
       "      <th>PREFIX</th>\n",
       "      <th>SUFFIX</th>\n",
       "      <th>MARITAL</th>\n",
       "      <th>RACE</th>\n",
       "      <th>ETHNICITY</th>\n",
       "      <th>GENDER</th>\n",
       "      <th>BIRTHPLACE</th>\n",
       "      <th>CITY</th>\n",
       "      <th>STATE</th>\n",
       "      <th>COUNTY</th>\n",
       "      <th>HEALTHCARE_EXPENSES</th>\n",
       "      <th>HEALTHCARE_COVERAGE</th>\n",
       "    </tr>\n",
       "  </thead>\n",
       "  <tbody>\n",
       "    <tr>\n",
       "      <th>0</th>\n",
       "      <td>0</td>\n",
       "      <td>1</td>\n",
       "      <td>0</td>\n",
       "      <td>0</td>\n",
       "      <td>4</td>\n",
       "      <td>1</td>\n",
       "      <td>0</td>\n",
       "      <td>32</td>\n",
       "      <td>118</td>\n",
       "      <td>0</td>\n",
       "      <td>8</td>\n",
       "      <td>4566</td>\n",
       "      <td>11287</td>\n",
       "    </tr>\n",
       "    <tr>\n",
       "      <th>1</th>\n",
       "      <td>1</td>\n",
       "      <td>1</td>\n",
       "      <td>0</td>\n",
       "      <td>0</td>\n",
       "      <td>4</td>\n",
       "      <td>0</td>\n",
       "      <td>0</td>\n",
       "      <td>308</td>\n",
       "      <td>52</td>\n",
       "      <td>0</td>\n",
       "      <td>7</td>\n",
       "      <td>3518</td>\n",
       "      <td>5385</td>\n",
       "    </tr>\n",
       "    <tr>\n",
       "      <th>2</th>\n",
       "      <td>2</td>\n",
       "      <td>1</td>\n",
       "      <td>0</td>\n",
       "      <td>1</td>\n",
       "      <td>4</td>\n",
       "      <td>1</td>\n",
       "      <td>0</td>\n",
       "      <td>38</td>\n",
       "      <td>8</td>\n",
       "      <td>0</td>\n",
       "      <td>8</td>\n",
       "      <td>8096</td>\n",
       "      <td>10252</td>\n",
       "    </tr>\n",
       "    <tr>\n",
       "      <th>3</th>\n",
       "      <td>3</td>\n",
       "      <td>1</td>\n",
       "      <td>0</td>\n",
       "      <td>0</td>\n",
       "      <td>4</td>\n",
       "      <td>1</td>\n",
       "      <td>0</td>\n",
       "      <td>49</td>\n",
       "      <td>247</td>\n",
       "      <td>0</td>\n",
       "      <td>13</td>\n",
       "      <td>131</td>\n",
       "      <td>936</td>\n",
       "    </tr>\n",
       "    <tr>\n",
       "      <th>4</th>\n",
       "      <td>4</td>\n",
       "      <td>0</td>\n",
       "      <td>0</td>\n",
       "      <td>0</td>\n",
       "      <td>2</td>\n",
       "      <td>1</td>\n",
       "      <td>1</td>\n",
       "      <td>105</td>\n",
       "      <td>274</td>\n",
       "      <td>0</td>\n",
       "      <td>8</td>\n",
       "      <td>8527</td>\n",
       "      <td>5555</td>\n",
       "    </tr>\n",
       "  </tbody>\n",
       "</table>\n",
       "</div>"
      ],
      "text/plain": [
       "   ID  PREFIX  SUFFIX  MARITAL  RACE  ETHNICITY  GENDER  BIRTHPLACE  CITY  \\\n",
       "0   0       1       0        0     4          1       0          32   118   \n",
       "1   1       1       0        0     4          0       0         308    52   \n",
       "2   2       1       0        1     4          1       0          38     8   \n",
       "3   3       1       0        0     4          1       0          49   247   \n",
       "4   4       0       0        0     2          1       1         105   274   \n",
       "\n",
       "   STATE  COUNTY  HEALTHCARE_EXPENSES  HEALTHCARE_COVERAGE  \n",
       "0      0       8                 4566                11287  \n",
       "1      0       7                 3518                 5385  \n",
       "2      0       8                 8096                10252  \n",
       "3      0      13                  131                  936  \n",
       "4      0       8                 8527                 5555  "
      ]
     },
     "execution_count": 15,
     "metadata": {},
     "output_type": "execute_result"
    }
   ],
   "source": [
    "train.head()"
   ]
  },
  {
   "cell_type": "code",
   "execution_count": 16,
   "id": "63509655",
   "metadata": {},
   "outputs": [
    {
     "data": {
      "text/plain": [
       "(15000, 29)"
      ]
     },
     "execution_count": 16,
     "metadata": {},
     "output_type": "execute_result"
    }
   ],
   "source": [
    "train=pd.get_dummies(train,columns=['COUNTY','RACE','ETHNICITY','PREFIX'],drop_first=True)\n",
    "train.head()\n",
    "train.shape"
   ]
  },
  {
   "cell_type": "code",
   "execution_count": 17,
   "id": "bb3c84a3",
   "metadata": {},
   "outputs": [
    {
     "data": {
      "text/plain": [
       "(15000, 29)"
      ]
     },
     "execution_count": 17,
     "metadata": {},
     "output_type": "execute_result"
    }
   ],
   "source": [
    "train =train.loc[:,~train.columns.duplicated()]\n",
    "train.shape"
   ]
  },
  {
   "cell_type": "code",
   "execution_count": 18,
   "id": "83a5c919",
   "metadata": {},
   "outputs": [],
   "source": [
    "test=test.apply(LabelEncoder().fit_transform)"
   ]
  },
  {
   "cell_type": "code",
   "execution_count": 19,
   "id": "989440d7",
   "metadata": {},
   "outputs": [
    {
     "data": {
      "text/html": [
       "<div>\n",
       "<style scoped>\n",
       "    .dataframe tbody tr th:only-of-type {\n",
       "        vertical-align: middle;\n",
       "    }\n",
       "\n",
       "    .dataframe tbody tr th {\n",
       "        vertical-align: top;\n",
       "    }\n",
       "\n",
       "    .dataframe thead th {\n",
       "        text-align: right;\n",
       "    }\n",
       "</style>\n",
       "<table border=\"1\" class=\"dataframe\">\n",
       "  <thead>\n",
       "    <tr style=\"text-align: right;\">\n",
       "      <th></th>\n",
       "      <th>ID</th>\n",
       "      <th>PREFIX</th>\n",
       "      <th>SUFFIX</th>\n",
       "      <th>MARITAL</th>\n",
       "      <th>RACE</th>\n",
       "      <th>ETHNICITY</th>\n",
       "      <th>GENDER</th>\n",
       "      <th>BIRTHPLACE</th>\n",
       "      <th>CITY</th>\n",
       "      <th>STATE</th>\n",
       "      <th>COUNTY</th>\n",
       "      <th>HEALTHCARE_EXPENSES</th>\n",
       "    </tr>\n",
       "  </thead>\n",
       "  <tbody>\n",
       "    <tr>\n",
       "      <th>0</th>\n",
       "      <td>0</td>\n",
       "      <td>0</td>\n",
       "      <td>0</td>\n",
       "      <td>0</td>\n",
       "      <td>4</td>\n",
       "      <td>1</td>\n",
       "      <td>1</td>\n",
       "      <td>74</td>\n",
       "      <td>41</td>\n",
       "      <td>0</td>\n",
       "      <td>8</td>\n",
       "      <td>2155</td>\n",
       "    </tr>\n",
       "    <tr>\n",
       "      <th>1</th>\n",
       "      <td>1</td>\n",
       "      <td>0</td>\n",
       "      <td>0</td>\n",
       "      <td>0</td>\n",
       "      <td>4</td>\n",
       "      <td>1</td>\n",
       "      <td>1</td>\n",
       "      <td>143</td>\n",
       "      <td>110</td>\n",
       "      <td>0</td>\n",
       "      <td>8</td>\n",
       "      <td>1707</td>\n",
       "    </tr>\n",
       "    <tr>\n",
       "      <th>2</th>\n",
       "      <td>2</td>\n",
       "      <td>1</td>\n",
       "      <td>0</td>\n",
       "      <td>0</td>\n",
       "      <td>4</td>\n",
       "      <td>1</td>\n",
       "      <td>0</td>\n",
       "      <td>318</td>\n",
       "      <td>75</td>\n",
       "      <td>0</td>\n",
       "      <td>8</td>\n",
       "      <td>1776</td>\n",
       "    </tr>\n",
       "    <tr>\n",
       "      <th>3</th>\n",
       "      <td>3</td>\n",
       "      <td>0</td>\n",
       "      <td>0</td>\n",
       "      <td>0</td>\n",
       "      <td>4</td>\n",
       "      <td>1</td>\n",
       "      <td>1</td>\n",
       "      <td>185</td>\n",
       "      <td>16</td>\n",
       "      <td>0</td>\n",
       "      <td>0</td>\n",
       "      <td>568</td>\n",
       "    </tr>\n",
       "    <tr>\n",
       "      <th>4</th>\n",
       "      <td>4</td>\n",
       "      <td>0</td>\n",
       "      <td>0</td>\n",
       "      <td>0</td>\n",
       "      <td>4</td>\n",
       "      <td>1</td>\n",
       "      <td>0</td>\n",
       "      <td>62</td>\n",
       "      <td>114</td>\n",
       "      <td>0</td>\n",
       "      <td>13</td>\n",
       "      <td>735</td>\n",
       "    </tr>\n",
       "  </tbody>\n",
       "</table>\n",
       "</div>"
      ],
      "text/plain": [
       "   ID  PREFIX  SUFFIX  MARITAL  RACE  ETHNICITY  GENDER  BIRTHPLACE  CITY  \\\n",
       "0   0       0       0        0     4          1       1          74    41   \n",
       "1   1       0       0        0     4          1       1         143   110   \n",
       "2   2       1       0        0     4          1       0         318    75   \n",
       "3   3       0       0        0     4          1       1         185    16   \n",
       "4   4       0       0        0     4          1       0          62   114   \n",
       "\n",
       "   STATE  COUNTY  HEALTHCARE_EXPENSES  \n",
       "0      0       8                 2155  \n",
       "1      0       8                 1707  \n",
       "2      0       8                 1776  \n",
       "3      0       0                  568  \n",
       "4      0      13                  735  "
      ]
     },
     "execution_count": 19,
     "metadata": {},
     "output_type": "execute_result"
    }
   ],
   "source": [
    "test.head()"
   ]
  },
  {
   "cell_type": "code",
   "execution_count": 20,
   "id": "f5e98921",
   "metadata": {},
   "outputs": [
    {
     "data": {
      "text/html": [
       "<div>\n",
       "<style scoped>\n",
       "    .dataframe tbody tr th:only-of-type {\n",
       "        vertical-align: middle;\n",
       "    }\n",
       "\n",
       "    .dataframe tbody tr th {\n",
       "        vertical-align: top;\n",
       "    }\n",
       "\n",
       "    .dataframe thead th {\n",
       "        text-align: right;\n",
       "    }\n",
       "</style>\n",
       "<table border=\"1\" class=\"dataframe\">\n",
       "  <thead>\n",
       "    <tr style=\"text-align: right;\">\n",
       "      <th></th>\n",
       "      <th>ID</th>\n",
       "      <th>SUFFIX</th>\n",
       "      <th>MARITAL</th>\n",
       "      <th>GENDER</th>\n",
       "      <th>BIRTHPLACE</th>\n",
       "      <th>CITY</th>\n",
       "      <th>STATE</th>\n",
       "      <th>HEALTHCARE_EXPENSES</th>\n",
       "      <th>COUNTY_1</th>\n",
       "      <th>COUNTY_2</th>\n",
       "      <th>...</th>\n",
       "      <th>COUNTY_11</th>\n",
       "      <th>COUNTY_12</th>\n",
       "      <th>COUNTY_13</th>\n",
       "      <th>RACE_1</th>\n",
       "      <th>RACE_2</th>\n",
       "      <th>RACE_3</th>\n",
       "      <th>RACE_4</th>\n",
       "      <th>ETHNICITY_1</th>\n",
       "      <th>PREFIX_1</th>\n",
       "      <th>PREFIX_2</th>\n",
       "    </tr>\n",
       "  </thead>\n",
       "  <tbody>\n",
       "    <tr>\n",
       "      <th>0</th>\n",
       "      <td>0</td>\n",
       "      <td>0</td>\n",
       "      <td>0</td>\n",
       "      <td>1</td>\n",
       "      <td>74</td>\n",
       "      <td>41</td>\n",
       "      <td>0</td>\n",
       "      <td>2155</td>\n",
       "      <td>0</td>\n",
       "      <td>0</td>\n",
       "      <td>...</td>\n",
       "      <td>0</td>\n",
       "      <td>0</td>\n",
       "      <td>0</td>\n",
       "      <td>0</td>\n",
       "      <td>0</td>\n",
       "      <td>0</td>\n",
       "      <td>1</td>\n",
       "      <td>1</td>\n",
       "      <td>0</td>\n",
       "      <td>0</td>\n",
       "    </tr>\n",
       "    <tr>\n",
       "      <th>1</th>\n",
       "      <td>1</td>\n",
       "      <td>0</td>\n",
       "      <td>0</td>\n",
       "      <td>1</td>\n",
       "      <td>143</td>\n",
       "      <td>110</td>\n",
       "      <td>0</td>\n",
       "      <td>1707</td>\n",
       "      <td>0</td>\n",
       "      <td>0</td>\n",
       "      <td>...</td>\n",
       "      <td>0</td>\n",
       "      <td>0</td>\n",
       "      <td>0</td>\n",
       "      <td>0</td>\n",
       "      <td>0</td>\n",
       "      <td>0</td>\n",
       "      <td>1</td>\n",
       "      <td>1</td>\n",
       "      <td>0</td>\n",
       "      <td>0</td>\n",
       "    </tr>\n",
       "    <tr>\n",
       "      <th>2</th>\n",
       "      <td>2</td>\n",
       "      <td>0</td>\n",
       "      <td>0</td>\n",
       "      <td>0</td>\n",
       "      <td>318</td>\n",
       "      <td>75</td>\n",
       "      <td>0</td>\n",
       "      <td>1776</td>\n",
       "      <td>0</td>\n",
       "      <td>0</td>\n",
       "      <td>...</td>\n",
       "      <td>0</td>\n",
       "      <td>0</td>\n",
       "      <td>0</td>\n",
       "      <td>0</td>\n",
       "      <td>0</td>\n",
       "      <td>0</td>\n",
       "      <td>1</td>\n",
       "      <td>1</td>\n",
       "      <td>1</td>\n",
       "      <td>0</td>\n",
       "    </tr>\n",
       "    <tr>\n",
       "      <th>3</th>\n",
       "      <td>3</td>\n",
       "      <td>0</td>\n",
       "      <td>0</td>\n",
       "      <td>1</td>\n",
       "      <td>185</td>\n",
       "      <td>16</td>\n",
       "      <td>0</td>\n",
       "      <td>568</td>\n",
       "      <td>0</td>\n",
       "      <td>0</td>\n",
       "      <td>...</td>\n",
       "      <td>0</td>\n",
       "      <td>0</td>\n",
       "      <td>0</td>\n",
       "      <td>0</td>\n",
       "      <td>0</td>\n",
       "      <td>0</td>\n",
       "      <td>1</td>\n",
       "      <td>1</td>\n",
       "      <td>0</td>\n",
       "      <td>0</td>\n",
       "    </tr>\n",
       "    <tr>\n",
       "      <th>4</th>\n",
       "      <td>4</td>\n",
       "      <td>0</td>\n",
       "      <td>0</td>\n",
       "      <td>0</td>\n",
       "      <td>62</td>\n",
       "      <td>114</td>\n",
       "      <td>0</td>\n",
       "      <td>735</td>\n",
       "      <td>0</td>\n",
       "      <td>0</td>\n",
       "      <td>...</td>\n",
       "      <td>0</td>\n",
       "      <td>0</td>\n",
       "      <td>1</td>\n",
       "      <td>0</td>\n",
       "      <td>0</td>\n",
       "      <td>0</td>\n",
       "      <td>1</td>\n",
       "      <td>1</td>\n",
       "      <td>0</td>\n",
       "      <td>0</td>\n",
       "    </tr>\n",
       "  </tbody>\n",
       "</table>\n",
       "<p>5 rows × 28 columns</p>\n",
       "</div>"
      ],
      "text/plain": [
       "   ID  SUFFIX  MARITAL  GENDER  BIRTHPLACE  CITY  STATE  HEALTHCARE_EXPENSES  \\\n",
       "0   0       0        0       1          74    41      0                 2155   \n",
       "1   1       0        0       1         143   110      0                 1707   \n",
       "2   2       0        0       0         318    75      0                 1776   \n",
       "3   3       0        0       1         185    16      0                  568   \n",
       "4   4       0        0       0          62   114      0                  735   \n",
       "\n",
       "   COUNTY_1  COUNTY_2  ...  COUNTY_11  COUNTY_12  COUNTY_13  RACE_1  RACE_2  \\\n",
       "0         0         0  ...          0          0          0       0       0   \n",
       "1         0         0  ...          0          0          0       0       0   \n",
       "2         0         0  ...          0          0          0       0       0   \n",
       "3         0         0  ...          0          0          0       0       0   \n",
       "4         0         0  ...          0          0          1       0       0   \n",
       "\n",
       "   RACE_3  RACE_4  ETHNICITY_1  PREFIX_1  PREFIX_2  \n",
       "0       0       1            1         0         0  \n",
       "1       0       1            1         0         0  \n",
       "2       0       1            1         1         0  \n",
       "3       0       1            1         0         0  \n",
       "4       0       1            1         0         0  \n",
       "\n",
       "[5 rows x 28 columns]"
      ]
     },
     "execution_count": 20,
     "metadata": {},
     "output_type": "execute_result"
    }
   ],
   "source": [
    "test=pd.get_dummies(test,columns=['COUNTY','RACE','ETHNICITY','PREFIX'],drop_first=True)\n",
    "test.head()"
   ]
  },
  {
   "cell_type": "code",
   "execution_count": 21,
   "id": "bd86f58c",
   "metadata": {},
   "outputs": [
    {
     "data": {
      "text/plain": [
       "(4000, 28)"
      ]
     },
     "execution_count": 21,
     "metadata": {},
     "output_type": "execute_result"
    }
   ],
   "source": [
    "test =test.loc[:,~test.columns.duplicated()]\n",
    "test.shape"
   ]
  },
  {
   "cell_type": "code",
   "execution_count": 22,
   "id": "2ca78828",
   "metadata": {},
   "outputs": [],
   "source": [
    "y=train['HEALTHCARE_COVERAGE']\n",
    "X=train.drop('HEALTHCARE_COVERAGE', axis=1)"
   ]
  },
  {
   "cell_type": "code",
   "execution_count": 23,
   "id": "486f82fe",
   "metadata": {},
   "outputs": [],
   "source": [
    "from sklearn.preprocessing import StandardScaler\n",
    "scalar = StandardScaler()\n",
    "X= scalar.fit_transform(X)"
   ]
  },
  {
   "cell_type": "code",
   "execution_count": 24,
   "id": "1a4fc0fe",
   "metadata": {},
   "outputs": [
    {
     "data": {
      "text/plain": [
       "array([[-1.73193534, -0.20463536, -0.37357443, ...,  0.25517439,\n",
       "         0.9866228 , -0.30869119],\n",
       "       [-1.7317044 , -0.20463536, -0.37357443, ..., -3.91888863,\n",
       "         0.9866228 , -0.30869119],\n",
       "       [-1.73147346, -0.20463536,  2.67684277, ...,  0.25517439,\n",
       "         0.9866228 , -0.30869119],\n",
       "       ...,\n",
       "       [ 1.73147346, -0.20463536, -0.37357443, ...,  0.25517439,\n",
       "        -1.01355858, -0.30869119],\n",
       "       [ 1.7317044 , -0.20463536, -0.37357443, ...,  0.25517439,\n",
       "         0.9866228 , -0.30869119],\n",
       "       [ 1.73193534, -0.20463536, -0.37357443, ...,  0.25517439,\n",
       "        -1.01355858, -0.30869119]])"
      ]
     },
     "execution_count": 24,
     "metadata": {},
     "output_type": "execute_result"
    }
   ],
   "source": [
    "X"
   ]
  },
  {
   "cell_type": "code",
   "execution_count": 25,
   "id": "4683e7b0",
   "metadata": {},
   "outputs": [
    {
     "data": {
      "text/plain": [
       "0        11287\n",
       "1         5385\n",
       "2        10252\n",
       "3          936\n",
       "4         5555\n",
       "         ...  \n",
       "14995     5759\n",
       "14996     4504\n",
       "14997     7174\n",
       "14998     3494\n",
       "14999     9416\n",
       "Name: HEALTHCARE_COVERAGE, Length: 15000, dtype: int64"
      ]
     },
     "execution_count": 25,
     "metadata": {},
     "output_type": "execute_result"
    }
   ],
   "source": [
    "y"
   ]
  },
  {
   "cell_type": "code",
   "execution_count": 26,
   "id": "0eeea722",
   "metadata": {},
   "outputs": [],
   "source": [
    "from sklearn.linear_model import LinearRegression"
   ]
  },
  {
   "cell_type": "code",
   "execution_count": 27,
   "id": "08d4ed8e",
   "metadata": {},
   "outputs": [],
   "source": [
    "model = LinearRegression()"
   ]
  },
  {
   "cell_type": "code",
   "execution_count": null,
   "id": "9288147a",
   "metadata": {},
   "outputs": [],
   "source": []
  },
  {
   "cell_type": "code",
   "execution_count": 28,
   "id": "14be28f6",
   "metadata": {},
   "outputs": [
    {
     "data": {
      "text/plain": [
       "LinearRegression()"
      ]
     },
     "execution_count": 28,
     "metadata": {},
     "output_type": "execute_result"
    }
   ],
   "source": [
    "model.fit(X, y)"
   ]
  },
  {
   "cell_type": "code",
   "execution_count": 29,
   "id": "5ae9d25b",
   "metadata": {},
   "outputs": [],
   "source": [
    "x_test=test.apply(LabelEncoder().fit_transform)"
   ]
  },
  {
   "cell_type": "code",
   "execution_count": 30,
   "id": "5c56f73e",
   "metadata": {},
   "outputs": [],
   "source": [
    "x_test= scalar.fit_transform(x_test)"
   ]
  },
  {
   "cell_type": "code",
   "execution_count": 31,
   "id": "b8899112",
   "metadata": {},
   "outputs": [],
   "source": [
    "y_pred = model.predict(x_test)"
   ]
  },
  {
   "cell_type": "code",
   "execution_count": 32,
   "id": "c2aa594d",
   "metadata": {},
   "outputs": [
    {
     "data": {
      "text/plain": [
       "array([6982.87910785, 6182.57085616, 7375.04316924, ..., 8335.06001727,\n",
       "       8076.77227186, 9821.72499681])"
      ]
     },
     "execution_count": 32,
     "metadata": {},
     "output_type": "execute_result"
    }
   ],
   "source": [
    "y_pred"
   ]
  },
  {
   "cell_type": "code",
   "execution_count": 33,
   "id": "2a6f779f",
   "metadata": {},
   "outputs": [],
   "source": [
    "sub=pd.read_csv('sample_submission.csv')"
   ]
  },
  {
   "cell_type": "code",
   "execution_count": 34,
   "id": "d332df54",
   "metadata": {},
   "outputs": [],
   "source": [
    "df_submission = pd.DataFrame({'ID':sub['ID'], 'HEALTHCARE_COVERAGE': y_pred})"
   ]
  },
  {
   "cell_type": "code",
   "execution_count": 35,
   "id": "35049261",
   "metadata": {},
   "outputs": [
    {
     "data": {
      "text/html": [
       "<div>\n",
       "<style scoped>\n",
       "    .dataframe tbody tr th:only-of-type {\n",
       "        vertical-align: middle;\n",
       "    }\n",
       "\n",
       "    .dataframe tbody tr th {\n",
       "        vertical-align: top;\n",
       "    }\n",
       "\n",
       "    .dataframe thead th {\n",
       "        text-align: right;\n",
       "    }\n",
       "</style>\n",
       "<table border=\"1\" class=\"dataframe\">\n",
       "  <thead>\n",
       "    <tr style=\"text-align: right;\">\n",
       "      <th></th>\n",
       "      <th>ID</th>\n",
       "      <th>HEALTHCARE_COVERAGE</th>\n",
       "    </tr>\n",
       "  </thead>\n",
       "  <tbody>\n",
       "    <tr>\n",
       "      <th>0</th>\n",
       "      <td>1</td>\n",
       "      <td>6982.879108</td>\n",
       "    </tr>\n",
       "    <tr>\n",
       "      <th>1</th>\n",
       "      <td>2</td>\n",
       "      <td>6182.570856</td>\n",
       "    </tr>\n",
       "    <tr>\n",
       "      <th>2</th>\n",
       "      <td>3</td>\n",
       "      <td>7375.043169</td>\n",
       "    </tr>\n",
       "    <tr>\n",
       "      <th>3</th>\n",
       "      <td>4</td>\n",
       "      <td>4026.908317</td>\n",
       "    </tr>\n",
       "    <tr>\n",
       "      <th>4</th>\n",
       "      <td>5</td>\n",
       "      <td>6911.892865</td>\n",
       "    </tr>\n",
       "    <tr>\n",
       "      <th>...</th>\n",
       "      <td>...</td>\n",
       "      <td>...</td>\n",
       "    </tr>\n",
       "    <tr>\n",
       "      <th>3995</th>\n",
       "      <td>3996</td>\n",
       "      <td>8187.879932</td>\n",
       "    </tr>\n",
       "    <tr>\n",
       "      <th>3996</th>\n",
       "      <td>3997</td>\n",
       "      <td>5664.335794</td>\n",
       "    </tr>\n",
       "    <tr>\n",
       "      <th>3997</th>\n",
       "      <td>3998</td>\n",
       "      <td>8335.060017</td>\n",
       "    </tr>\n",
       "    <tr>\n",
       "      <th>3998</th>\n",
       "      <td>3999</td>\n",
       "      <td>8076.772272</td>\n",
       "    </tr>\n",
       "    <tr>\n",
       "      <th>3999</th>\n",
       "      <td>4000</td>\n",
       "      <td>9821.724997</td>\n",
       "    </tr>\n",
       "  </tbody>\n",
       "</table>\n",
       "<p>4000 rows × 2 columns</p>\n",
       "</div>"
      ],
      "text/plain": [
       "        ID  HEALTHCARE_COVERAGE\n",
       "0        1          6982.879108\n",
       "1        2          6182.570856\n",
       "2        3          7375.043169\n",
       "3        4          4026.908317\n",
       "4        5          6911.892865\n",
       "...    ...                  ...\n",
       "3995  3996          8187.879932\n",
       "3996  3997          5664.335794\n",
       "3997  3998          8335.060017\n",
       "3998  3999          8076.772272\n",
       "3999  4000          9821.724997\n",
       "\n",
       "[4000 rows x 2 columns]"
      ]
     },
     "execution_count": 35,
     "metadata": {},
     "output_type": "execute_result"
    }
   ],
   "source": [
    "df_submission"
   ]
  },
  {
   "cell_type": "code",
   "execution_count": 36,
   "id": "23ba7d2e",
   "metadata": {},
   "outputs": [],
   "source": [
    "df_submission.to_csv('sub123.csv', index=False)"
   ]
  },
  {
   "cell_type": "code",
   "execution_count": null,
   "id": "f0d8c9b2",
   "metadata": {},
   "outputs": [],
   "source": []
  }
 ],
 "metadata": {
  "kernelspec": {
   "display_name": "Python 3 (ipykernel)",
   "language": "python",
   "name": "python3"
  },
  "language_info": {
   "codemirror_mode": {
    "name": "ipython",
    "version": 3
   },
   "file_extension": ".py",
   "mimetype": "text/x-python",
   "name": "python",
   "nbconvert_exporter": "python",
   "pygments_lexer": "ipython3",
   "version": "3.10.6"
  }
 },
 "nbformat": 4,
 "nbformat_minor": 5
}
